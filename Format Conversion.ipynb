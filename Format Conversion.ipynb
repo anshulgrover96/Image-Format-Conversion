{
 "cells": [
  {
   "cell_type": "code",
   "execution_count": 2,
   "metadata": {},
   "outputs": [],
   "source": [
    "from PIL import Image\n",
    "import os"
   ]
  },
  {
   "cell_type": "code",
   "execution_count": 33,
   "metadata": {},
   "outputs": [
    {
     "name": "stdout",
     "output_type": "stream",
     "text": [
      "file : BA_267_Cont1mGal_UTM18N_NAD83.tif\n",
      "new filename : BA_267_Cont1mGal_UTM18N_NAD83.jpeg\n",
      "file : BA_267_UTM18N_NAD83.tif\n",
      "new filename : BA_267_UTM18N_NAD83.jpeg\n",
      "file : FAA_Cont1mGal_UTM18N_NAD83.tif\n",
      "new filename : FAA_Cont1mGal_UTM18N_NAD83.jpeg\n",
      "file : FAA_UTM18N_NAD83.tif\n",
      "new filename : FAA_UTM18N_NAD83.jpeg\n",
      "file : land_shallow_topo_2048.tif\n",
      "new filename : land_shallow_topo_2048.jpeg\n"
     ]
    }
   ],
   "source": [
    "paths=\"C:/Users/<user-name>/path-to-file\"\n",
    "newpath=\"C:/Users/<user-name>\path-to-new-saved-file\"\n",
    "for infile in os.listdir(paths):\n",
    "    print (\"file : \" + infile)\n",
    "    if infile[-3:] == \"tif\" or infile[-3:] == \"bmp\" :\n",
    "       # print \"is tif or bmp\"\n",
    "       outfile = infile[:-3] + \"jpeg\"\n",
    "       im = Image.open(infile)\n",
    "       print (\"new filename : \" + outfile)\n",
    "       out = im.convert(\"RGB\")\n",
    "       out.save(os.path.join(newpath,outfile), \"JPEG\", quality=100)"
   ]
  },
  {
   "cell_type": "code",
   "execution_count": null,
   "metadata": {},
   "outputs": [],
   "source": []
  },
  {
   "cell_type": "code",
   "execution_count": null,
   "metadata": {},
   "outputs": [],
   "source": []
  },
  {
   "cell_type": "code",
   "execution_count": null,
   "metadata": {},
   "outputs": [],
   "source": []
  }
 ],
 "metadata": {
  "kernelspec": {
   "display_name": "Python 3",
   "language": "python",
   "name": "python3"
  },
  "language_info": {
   "codemirror_mode": {
    "name": "ipython",
    "version": 3
   },
   "file_extension": ".py",
   "mimetype": "text/x-python",
   "name": "python",
   "nbconvert_exporter": "python",
   "pygments_lexer": "ipython3",
   "version": "3.7.6"
  }
 },
 "nbformat": 4,
 "nbformat_minor": 2
}
